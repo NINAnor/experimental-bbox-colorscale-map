{
 "cells": [
  {
   "cell_type": "code",
   "execution_count": null,
   "id": "2c94986d-7462-4ef1-bacf-603847326fa9",
   "metadata": {},
   "outputs": [],
   "source": [
    "from rio_tiler.io import Reader\n",
    "from rio_tiler.models import ImageData\n",
    "from rio_tiler.colormap import cmap\n",
    "import matplotlib.pyplot as plt\n",
    "from rasterio import windows\n",
    "cm = cmap.get(\"viridis\")\n",
    "from scipy.interpolate import RectBivariateSpline\n",
    "import cv2\n",
    "import pyproj\n",
    "import numpy as np"
   ]
  },
  {
   "cell_type": "code",
   "execution_count": null,
   "id": "3852e168-0a44-46e2-81e9-5f31c8ccc216",
   "metadata": {},
   "outputs": [],
   "source": [
    "def mapplot(fn, start_x, start_y, zoom, grid=3):\n",
    "    tiles = np.empty(shape=(grid, grid, 256, 256, 1))\n",
    "    for x in range(grid):\n",
    "        for y in range(grid):\n",
    "            tiles[y, x] = fn(start_x+x, start_y+y, zoom)\n",
    "    tiles = tiles.swapaxes(1, 2)\n",
    "    tiles = tiles.reshape(grid*256, grid*256)\n",
    "    plt.imshow(tiles)\n",
    "    plt.show()"
   ]
  },
  {
   "cell_type": "code",
   "execution_count": null,
   "id": "f49c1711-16f1-4411-9bf5-d458735c25e9",
   "metadata": {},
   "outputs": [],
   "source": [
    "def original(x, y, zoom):\n",
    "    with Reader(tif) as dst:\n",
    "        img = dst.tile(x, y, zoom, tilesize=tilesize)\n",
    "        return img.data_as_image()"
   ]
  },
  {
   "cell_type": "code",
   "execution_count": null,
   "id": "d2bf2fd1-146d-44c3-9b92-22393b5ab8ca",
   "metadata": {},
   "outputs": [],
   "source": [
    "def basic(x, y, zoom):\n",
    "    with Reader(tif) as dst:\n",
    "        img = dst.tile(x, y, zoom, tilesize=tilesize)\n",
    "        img_buffered = dst.tile(x, y, zoom, tilesize=tilesize, buffer=0)\n",
    "        stats = img_buffered.statistics()\n",
    "        bs = stats.get('b1')\n",
    "        bstats = (bs.min, bs.max)\n",
    "        img.rescale(\n",
    "            in_range=(bstats,)\n",
    "        )\n",
    "        return img.data_as_image()"
   ]
  },
  {
   "cell_type": "code",
   "execution_count": null,
   "id": "535b0554-cbc1-4f77-b5cc-0acc3ec2a9dd",
   "metadata": {},
   "outputs": [],
   "source": [
    "def equalized(x, y, zoom, buffer_tiles=0):\n",
    "    with Reader(tif) as dst:\n",
    "        img = dst.tile(x, y, zoom, tilesize=tilesize, buffer=tilesize*buffer_tiles)\n",
    "        stats = img.statistics()\n",
    "        bs = stats.get('b1')\n",
    "        bstats = (bs.min, bs.max)\n",
    "        img.rescale(\n",
    "            in_range=(bstats,),\n",
    "        )\n",
    "        eq_img = cv2.equalizeHist(img.data_as_image())\n",
    "        bounds = windows.bounds(windows.Window(tilesize, tilesize, tilesize, tilesize), img.transform)\n",
    "        img = img.clip(bounds)\n",
    "        pos_start, pos_end = buffer_tiles*tilesize, (buffer_tiles+1)*tilesize\n",
    "        new_img = ImageData(\n",
    "            eq_img[pos_start:pos_end, pos_start:pos_end],\n",
    "            assets=img.assets,\n",
    "            crs=img.crs,\n",
    "            bounds=img.bounds,\n",
    "        )\n",
    "        return new_img.data_as_image()"
   ]
  },
  {
   "cell_type": "code",
   "execution_count": null,
   "id": "bb05ac61-2d9a-4864-a01f-0a2082ffe651",
   "metadata": {},
   "outputs": [],
   "source": [
    "def image_to_uint8(img):\n",
    "    data = img.data_as_image()\n",
    "    return cv2.normalize(src=data, dst=None, alpha=0, beta=2**8, norm_type=cv2.NORM_MINMAX, dtype=cv2.CV_8U)\n",
    "\n",
    "def clahe(x, y, zoom, buffer_tiles=1):\n",
    "    with Reader(tif) as dst:\n",
    "        img = dst.tile(x, y, zoom, tilesize=tilesize)\n",
    "        img_buffered = dst.tile(x, y, zoom, tilesize=tilesize, buffer=tilesize*buffer_tiles)\n",
    "        clahe = cv2.createCLAHE(clipLimit=10, tileGridSize=(3, 3))\n",
    "        eq_img = clahe.apply(image_to_uint8(img_buffered))\n",
    "        bounds = windows.bounds(windows.Window(tilesize, tilesize, tilesize, tilesize), img.transform)\n",
    "        img = img.clip(bounds)\n",
    "        pos_start, pos_end = buffer_tiles*tilesize, (buffer_tiles+1)*tilesize\n",
    "        new_img = ImageData(\n",
    "            eq_img[pos_start:pos_end, pos_start:pos_end],\n",
    "            assets=img.assets,\n",
    "            crs=img.crs,\n",
    "            bounds=img.bounds,\n",
    "        )\n",
    "        return new_img.data_as_image()"
   ]
  },
  {
   "cell_type": "code",
   "execution_count": null,
   "id": "2348c455-a6b3-4b1f-82ee-8c5f3fbccc63",
   "metadata": {},
   "outputs": [],
   "source": [
    "zoom, *tile = map(int, \"11/1081/599\".split(\"/\"))\n",
    "tilesize = 256\n",
    "tif = \"http://nginx-dev/data/layers/test.tif.cog\"\n",
    "\n",
    "mapplot(original, *tile, zoom)\n",
    "mapplot(basic, *tile, zoom)\n",
    "mapplot(equalized, *tile, zoom)\n",
    "mapplot(clahe, *tile, zoom)"
   ]
  }
 ],
 "metadata": {
  "kernelspec": {
   "display_name": "Python 3 (ipykernel)",
   "language": "python",
   "name": "python3"
  },
  "language_info": {
   "codemirror_mode": {
    "name": "ipython",
    "version": 3
   },
   "file_extension": ".py",
   "mimetype": "text/x-python",
   "name": "python",
   "nbconvert_exporter": "python",
   "pygments_lexer": "ipython3",
   "version": "3.11.5"
  }
 },
 "nbformat": 4,
 "nbformat_minor": 5
}
